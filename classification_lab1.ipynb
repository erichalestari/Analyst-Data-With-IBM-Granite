{
  "nbformat": 4,
  "nbformat_minor": 0,
  "metadata": {
    "colab": {
      "provenance": [],
      "authorship_tag": "ABX9TyOzz/YyP578syK7E73zYahU",
      "include_colab_link": true
    },
    "kernelspec": {
      "name": "python3",
      "display_name": "Python 3"
    },
    "language_info": {
      "name": "python"
    }
  },
  "cells": [
    {
      "cell_type": "markdown",
      "metadata": {
        "id": "view-in-github",
        "colab_type": "text"
      },
      "source": [
        "<a href=\"https://colab.research.google.com/github/erichalestari/Analyst-Data-With-IBM-Granite/blob/main/classification_lab1.ipynb\" target=\"_parent\"><img src=\"https://colab.research.google.com/assets/colab-badge.svg\" alt=\"Open In Colab\"/></a>"
      ]
    },
    {
      "cell_type": "code",
      "source": [
        "!pip install langchain-community\n",
        "!pip install replicate"
      ],
      "metadata": {
        "id": "Jlbo1VZkYv9V",
        "colab": {
          "base_uri": "https://localhost:8080/"
        },
        "outputId": "c738fb04-b38d-4536-b32a-25865d464796"
      },
      "execution_count": null,
      "outputs": [
        {
          "output_type": "stream",
          "name": "stdout",
          "text": [
            "Collecting replicate\n",
            "  Downloading replicate-1.0.7-py3-none-any.whl.metadata (29 kB)\n",
            "Requirement already satisfied: httpx<1,>=0.21.0 in /usr/local/lib/python3.11/dist-packages (from replicate) (0.28.1)\n",
            "Requirement already satisfied: packaging in /usr/local/lib/python3.11/dist-packages (from replicate) (25.0)\n",
            "Requirement already satisfied: pydantic>1.10.7 in /usr/local/lib/python3.11/dist-packages (from replicate) (2.11.7)\n",
            "Requirement already satisfied: typing_extensions>=4.5.0 in /usr/local/lib/python3.11/dist-packages (from replicate) (4.14.1)\n",
            "Requirement already satisfied: anyio in /usr/local/lib/python3.11/dist-packages (from httpx<1,>=0.21.0->replicate) (4.9.0)\n",
            "Requirement already satisfied: certifi in /usr/local/lib/python3.11/dist-packages (from httpx<1,>=0.21.0->replicate) (2025.7.14)\n",
            "Requirement already satisfied: httpcore==1.* in /usr/local/lib/python3.11/dist-packages (from httpx<1,>=0.21.0->replicate) (1.0.9)\n",
            "Requirement already satisfied: idna in /usr/local/lib/python3.11/dist-packages (from httpx<1,>=0.21.0->replicate) (3.10)\n",
            "Requirement already satisfied: h11>=0.16 in /usr/local/lib/python3.11/dist-packages (from httpcore==1.*->httpx<1,>=0.21.0->replicate) (0.16.0)\n",
            "Requirement already satisfied: annotated-types>=0.6.0 in /usr/local/lib/python3.11/dist-packages (from pydantic>1.10.7->replicate) (0.7.0)\n",
            "Requirement already satisfied: pydantic-core==2.33.2 in /usr/local/lib/python3.11/dist-packages (from pydantic>1.10.7->replicate) (2.33.2)\n",
            "Requirement already satisfied: typing-inspection>=0.4.0 in /usr/local/lib/python3.11/dist-packages (from pydantic>1.10.7->replicate) (0.4.1)\n",
            "Requirement already satisfied: sniffio>=1.1 in /usr/local/lib/python3.11/dist-packages (from anyio->httpx<1,>=0.21.0->replicate) (1.3.1)\n",
            "Downloading replicate-1.0.7-py3-none-any.whl (48 kB)\n",
            "\u001b[?25l   \u001b[90m━━━━━━━━━━━━━━━━━━━━━━━━━━━━━━━━━━━━━━━━\u001b[0m \u001b[32m0.0/48.6 kB\u001b[0m \u001b[31m?\u001b[0m eta \u001b[36m-:--:--\u001b[0m\r\u001b[2K   \u001b[90m━━━━━━━━━━━━━━━━━━━━━━━━━━━━━━━━━━━━━━━━\u001b[0m \u001b[32m48.6/48.6 kB\u001b[0m \u001b[31m3.7 MB/s\u001b[0m eta \u001b[36m0:00:00\u001b[0m\n",
            "\u001b[?25hInstalling collected packages: replicate\n",
            "Successfully installed replicate-1.0.7\n"
          ]
        }
      ]
    },
    {
      "cell_type": "code",
      "source": [
        "\n",
        "from langchain_community.llms import Replicate\n",
        "import os\n",
        "from google.colab import userdata\n",
        "api_token = userdata.get('api_token')\n",
        "os.environ[\"REPLICATE_API_TOKEN\"] = api_token\n",
        "model = \"ibm-granite/granite-3.3-8b-instruct\"\n",
        "output1 = Replicate(\n",
        "    model=model,\n",
        "    replicate_api_token = api_token\n",
        ")"
      ],
      "metadata": {
        "id": "4Slnj-_r6C_h"
      },
      "execution_count": null,
      "outputs": []
    },
    {
      "cell_type": "code",
      "source": [
        "customer_reviews = [\n",
        "\"The battery latst all day, and the performance is excellent.\",\n",
        "\"The screen is too dim outdoord, but i love the colours indoors.\",\n",
        "\"This phone is slow and keeps crashing when i open certain apps.\"\n",
        "]\n",
        "reviews_text = \"\\n\".join([f\"Review {i+1}: {review}\"for i, review\n",
        "                          in enumerate (customer_reviews)])\n",
        "prompt1 = f\"\"\"\n",
        "classify these reviews as positive, negative, or mixed:\n",
        "{reviews_text} \"\"\"\n",
        "\n",
        "Response = output1.invoke(prompt1)\n",
        "print(\"Granite Model Response:\\n\")\n",
        "print(Response)\n",
        "refined_prompt = f\"\"\"\n",
        "classify these reviewa as positive, negative, or mixed, and tag relevant categories (battery life, screen quality, or performance):\n",
        "  {reviews_text}\"\"\""
      ],
      "metadata": {
        "colab": {
          "base_uri": "https://localhost:8080/"
        },
        "id": "RMyiNwQw70Dr",
        "outputId": "5890756d-903b-4641-e718-c8ccc83fd9c5"
      },
      "execution_count": null,
      "outputs": [
        {
          "output_type": "stream",
          "name": "stdout",
          "text": [
            "Granite Model Response:\n",
            "\n",
            "1. Positive: The review highlights the long battery life and good performance, indicating satisfaction with the product.\n",
            "2. Mixed: This review has both positive and negative aspects. The user appreciates the indoor color quality but criticizes the dim outdoor screen visibility.\n",
            "3. Negative: The review expresses dissatisfaction with the phone's slow performance and frequent crashes when opening certain apps.\n"
          ]
        }
      ]
    },
    {
      "cell_type": "code",
      "source": [
        "Response = output1.invoke(refined_prompt)\n",
        "print(\"Granite Model Response:\\n\")\n",
        "print(Response)"
      ],
      "metadata": {
        "colab": {
          "base_uri": "https://localhost:8080/"
        },
        "id": "4TvWNruaeRIg",
        "outputId": "717d842c-6d37-463b-ef78-46fa28bcd6c2"
      },
      "execution_count": null,
      "outputs": [
        {
          "output_type": "stream",
          "name": "stdout",
          "text": [
            "Granite Model Response:\n",
            "\n",
            "1. Review 1: Positive, Categories - Battery life (Positive), Performance (Positive)\n",
            "2. Review 2: Mixed, Categories - Screen quality (Mixed, Negative outdoors, Positive indoors)\n",
            "3. Review 3: Negative, Categories - Performance (Negative)\n"
          ]
        }
      ]
    },
    {
      "cell_type": "code",
      "source": [
        "multitask_prompt = f\"\"\"\n",
        "complete the task in 2 steps\n",
        "step 1: Classify these reviews as positive, negative, or mixed.\n",
        "step 2: For each review, identify relevant categories (battery life, screen quality, or performance).\n",
        "  {reviews_text}\"\"\"\n",
        "Response = output1.invoke(multitask_prompt)\n",
        "print(\"Granite Model Response:\\n\")\n",
        "print(Response)"
      ],
      "metadata": {
        "colab": {
          "base_uri": "https://localhost:8080/"
        },
        "id": "3HEAxndCfn0J",
        "outputId": "2f96a4dc-097b-4ca5-d80c-a7e7dcd84451"
      },
      "execution_count": null,
      "outputs": [
        {
          "output_type": "stream",
          "name": "stdout",
          "text": [
            "Granite Model Response:\n",
            "\n",
            "**Step 1: Classification**\n",
            "\n",
            "- Review 1: Positive\n",
            "- Review 2: Mixed\n",
            "- Review 3: Negative\n",
            "\n",
            "**Step 2: Identify Relevant Categories**\n",
            "\n",
            "- **Review 1 (Positive)**: \n",
            "  - Category: Battery Life (lasts all day)\n",
            "  - Category: Performance (excellent)\n",
            "\n",
            "- **Review 2 (Mixed)**: \n",
            "  - Category: Screen Quality (dim outdoors, good colors indoors)\n",
            "\n",
            "- **Review 3 (Negative)**: \n",
            "  - Category: Performance (slow, keeps crashing with certain apps)\n",
            "\n",
            "### Summary:\n",
            "- **Review 1** is positive, praising battery life and performance.\n",
            "- **Review 2** is mixed, noting a drawback with screen dimness outdoors but appreciating color quality indoors.\n",
            "- **Review 3** is negative, criticizing the phone's slow performance and frequent crashes.\n"
          ]
        }
      ]
    },
    {
      "cell_type": "code",
      "source": [
        "format_prompt = f\"\"\"\n",
        "Classify these as positive, negative, or mixed.\n",
        "relevant categories : use this format:\n",
        "- sentiment: [sentiment]\n",
        "- categories: [categories].\n",
        "{reviews_text}\"\"\"\n",
        "Response = output1.invoke(format_prompt)\n",
        "print(\"Granite Model Response:\\n\")\n",
        "print(Response)"
      ],
      "metadata": {
        "colab": {
          "base_uri": "https://localhost:8080/"
        },
        "id": "qfBwKC1Fhsac",
        "outputId": "ed1807c9-f8a3-49af-f8c0-38326e87a416"
      },
      "execution_count": null,
      "outputs": [
        {
          "output_type": "stream",
          "name": "stdout",
          "text": [
            "Granite Model Response:\n",
            "\n",
            "- sentiment: Positive\n",
            "  - categories: Battery life, Performance\n",
            "  - Review 1: The battery lasts all day, and the performance is excellent. (Positive sentiment regarding battery life and performance)\n",
            "\n",
            "- sentiment: Mixed\n",
            "  - categories: Screen visibility, Display quality\n",
            "  - Review 2: The screen is too dim outdoors, but I love the colors indoors. (Mixed sentiment, dimness issue outdoors, but appreciation for color quality indoors)\n",
            "\n",
            "- sentiment: Negative\n",
            "  - categories: Performance, Stability\n",
            "  - Review 3: This phone is slow and keeps crashing when I open certain apps. (Negative sentiment due to poor performance and app crashing issues)\n"
          ]
        }
      ]
    },
    {
      "cell_type": "code",
      "source": [
        "customer_meeting = [\n",
        "    \"\"\"\n",
        "    The meeting began with a discussion of the Q3 marketing budget. It was decided that 40% of the budget will go to digital ads, 30% to events, and 30% to social media campaigns. The team emphasized the need for influencer partnerships to increase brand visibility and email marketing to boost direct engagement. A pilot program to test new ad formats will launch next month, with the team reviewing results by the end of Q3.\n",
        "    Later, the team discussed campaign performance metrics. ROI monitoring will be a top priority, and adjustments will be made based on performance data\n",
        "    The events team raised concerns about resource allocation for upcoming trade shows, and it was agreed that an additional $10,000 would be reallocated to cover these costs.\n",
        "    Lastly, the team reviewed new creative concepts for the upcoming campaign, deciding to proceed with Concept 8, which tested better among focus groups. Deadlines for campaign assets were finalized: all deliverables must be submitted by July 15.\n",
        "\"\"\"\n",
        "]\n",
        "reviews_text = \"\\n\" .join([f\"Review {i+1}:{review}\"for i, review\n",
        "                           in enumerate (customer_meeting)])\n",
        "prompt = f\"\"\"\n",
        "Summarizing this meeting:\n",
        "{reviews_text}\"\"\"\n",
        "Response = output1.invoke(prompt)\n",
        "print(\"Granite Model Response:\\n\")\n",
        "print(Response)"
      ],
      "metadata": {
        "colab": {
          "base_uri": "https://localhost:8080/"
        },
        "id": "YNbwOeHckFNp",
        "outputId": "cfa2e52e-2817-4ac2-f031-deb69d4e8547"
      },
      "execution_count": null,
      "outputs": [
        {
          "output_type": "stream",
          "name": "stdout",
          "text": [
            "Granite Model Response:\n",
            "\n",
            "In the Q3 marketing budget meeting, the team allocated 40% to digital ads, 30% to events, and 30% to social media campaigns. Influencer partnerships and email marketing were highlighted for increased brand visibility and direct engagement. A pilot program for new ad formats will begin next month, with a review by Q3 end. \n",
            "\n",
            "Campaign performance metrics, particularly ROI, will be closely monitored, with adjustments based on performance data. The events team received an additional $10,000 for resource allocation to upcoming trade shows. \n",
            "\n",
            "New creative concepts were reviewed, and Concept 8 was chosen for its focus group appeal. All campaign assets must be submitted by July 15 to meet the finalized deadlines.\n"
          ]
        }
      ]
    },
    {
      "cell_type": "code",
      "source": [
        "defined_prompt = f\"\"\"\n",
        "Summarize this meeting in three sentence:\n",
        "{reviews_text}\"\"\"\n",
        "Response = output1.invoke(defined_prompt)\n",
        "print(\"Granite Model Response:\\n\")\n",
        "print(Response)"
      ],
      "metadata": {
        "colab": {
          "base_uri": "https://localhost:8080/"
        },
        "id": "nMPjZAj2l2qs",
        "outputId": "f11f9c67-dea0-474d-ee6c-92c3ae5b7745"
      },
      "execution_count": null,
      "outputs": [
        {
          "output_type": "stream",
          "name": "stdout",
          "text": [
            "Granite Model Response:\n",
            "\n",
            "In the Q3 marketing budget review meeting, it was decided to allocate 40% to digital ads, 30% each to events and social media, with a pilot program for new ad formats starting next month. The team prioritized ROI monitoring, reallocated an extra $10,000 for trade show resources, and selected Concept 8 for the upcoming campaign, with all assets due by July 15.\n"
          ]
        }
      ]
    },
    {
      "cell_type": "code",
      "source": [
        "refined_focusarea_prompt = f\"\"\"\n",
        "Summarize this meeting by focusing on key points, decisions made, and action items:\n",
        "{reviews_text}\"\"\"\n",
        "Response = output1.invoke(refined_focusarea_prompt)\n",
        "print(\"Granite Model Response:\\n\")\n",
        "print(Response)\n",
        "#"
      ],
      "metadata": {
        "colab": {
          "base_uri": "https://localhost:8080/"
        },
        "id": "j5JHF7sNnRCX",
        "outputId": "45908438-40c1-44fd-f85f-0a3b2f868f40"
      },
      "execution_count": null,
      "outputs": [
        {
          "output_type": "stream",
          "name": "stdout",
          "text": [
            "Granite Model Response:\n",
            "\n",
            "**Meeting Summary:**\n",
            "\n",
            "1. **Q3 Marketing Budget Allocation:**\n",
            "   - 40% for digital ads\n",
            "   - 30% for events, with an additional $10,000 reallocation to address resource concerns for trade shows\n",
            "   - 30% for social media campaigns\n",
            "\n",
            "2. **Strategic Focus:**\n",
            "   - Prioritize influencer partnerships to enhance brand visibility\n",
            "   - Strengthen email marketing for direct engagement\n",
            "   - Launch a pilot program for new ad formats in the next month, with a review by Q3 end\n",
            "\n",
            "3. **Performance Metrics & Adjustments:**\n",
            "   - Emphasize ROI monitoring and make data-driven adjustments to campaigns\n",
            "\n",
            "4. **New Creative Concepts:**\n",
            "   - Selected Concept 8 for the upcoming campaign, based on positive focus group feedback\n",
            "   - All campaign assets' deadlines finalized: submission due by July 15\n",
            "\n",
            "**Action Items:**\n",
            "\n",
            "- Allocate budget as decided\n",
            "- Identify and secure influencer partnerships\n",
            "- Develop and execute the pilot program for new ad formats, with a review planned by Q3 end\n",
            "- Enhance email marketing strategies and monitor ROI for ongoing campaigns\n",
            "- Ensure all campaign assets are submitted by July 15\n"
          ]
        }
      ]
    },
    {
      "cell_type": "code",
      "source": [
        "refined_outputformate_prompt = f\"\"\"\n",
        "Summarize this meeting into a structured format using the followingheadling: key points discussed, decisions made, and action items.\n",
        "Mention timelines.\n",
        "Includes only two concise bullet points under each headling.\n",
        "{reviews_text}\"\"\"\n",
        "Response = output1.invoke(refined_outputformate_prompt)\n",
        "print(\"Granite Model Response:\\n\")\n",
        "print(Response)\n",
        "#"
      ],
      "metadata": {
        "colab": {
          "base_uri": "https://localhost:8080/"
        },
        "id": "vJg3H19unlZu",
        "outputId": "ad72aab4-e479-4627-dee7-97ffeb99a40b"
      },
      "execution_count": null,
      "outputs": [
        {
          "output_type": "stream",
          "name": "stdout",
          "text": [
            "Granite Model Response:\n",
            "\n",
            "**Key Points Discussed:**\n",
            "\n",
            "- Q3 marketing budget allocation: 40% to digital ads, 30% to events, and 30% to social media campaigns. Emphasis on influencer partnerships and email marketing.\n",
            "- Pilot program for new ad formats to launch next month, with review by end of Q3.\n",
            "\n",
            "- Campaign performance metrics prioritization: ROI monitoring and adjustments based on performance data.\n",
            "- Additional $10,000 reallocation for resource allocation to cover upcoming trade show costs, as per events team's concerns.\n",
            "- Approval of Concept 8 for the upcoming campaign, based on focus group testing results.\n",
            "- Finalized deadlines: All campaign assets submission by July 15.\n",
            "\n",
            "**Decisions Made:**\n",
            "\n",
            "- Budget allocation: 40% digital ads, 30% events, 30% social media.\n",
            "- Launch of pilot program for new ad formats next month, with Q3 review.\n",
            "- Prioritize ROI monitoring for campaign performance.\n",
            "- Reallocation of $10,000 for trade show resources.\n",
            "- Approval of Concept 8 for the campaign.\n",
            "- Campaign asset submission deadline set for July 15.\n",
            "\n",
            "**Action Items:**\n",
            "\n",
            "- Marketing team: Implement budget allocation and execute digital ads, events, and social media strategies.\n",
            "- Ad team: Develop and execute pilot program for new ad formats, with review by Q3 end.\n",
            "- Analytics team: Continuously monitor campaign ROI and provide performance data for adjustments.\n",
            "- Events team: Utilize additional $10,000 for upcoming trade shows and ensure successful execution.\n",
            "- Creative team: Finalize and submit all campaign assets by July 15.\n"
          ]
        }
      ]
    },
    {
      "cell_type": "code",
      "source": [
        "parameter ={\n",
        "    \"top_k\" : 0,\n",
        "    \"top_p\" : 1.0,\n",
        "    \"max_tokens\" : 256,\n",
        "    \"min_tokens\" : 0,\n",
        "    \"random_seed\" : None,\n",
        "    \"repetition_penalty\" : 1.0,\n",
        "    \"stopping_criteria\" : \"lenght(256 tokens)\",\n",
        "    \"stopping_sequences\" : None\n",
        "}\n",
        "refined_prompt = f\"\"\"\n",
        "Classify these reviewa as positive, negative, or mixed, and tag relevant focus area such as battery life, screen quality, or performance\n",
        "  {reviews_text}\"\"\"\n",
        "Response = output1.invoke(refined_prompt, parameters=parameter)\n",
        "print(\"Granite Model Response:\\n\")\n",
        "print(Response)"
      ],
      "metadata": {
        "colab": {
          "base_uri": "https://localhost:8080/"
        },
        "id": "letK0XTbdHta",
        "outputId": "0eb9826a-1d4d-4a5a-8832-0b9b12ad4b69"
      },
      "execution_count": null,
      "outputs": [
        {
          "output_type": "stream",
          "name": "stdout",
          "text": [
            "Granite Model Response:\n",
            "\n",
            "1. Review 1: Positive, Focus Area - Battery Life, Performance\n",
            "2. Review 2: Mixed, Focus Area - Screen Quality (indoor vs outdoor)\n",
            "3. Review 3: Negative, Focus Area - Performance, Stability (crashing)\n"
          ]
        }
      ]
    },
    {
      "cell_type": "code",
      "source": [
        "parameter2 ={\n",
        "    \"top_k\" : 5,\n",
        "    \"top_p\" : 1.0,\n",
        "    \"max_tokens\" : 256,\n",
        "    \"min_tokens\" : 0,\n",
        "    \"random_seed\" : None,\n",
        "    \"repetition_penalty\" : 1.0,\n",
        "    \"stopping_criteria\" : \"lenght(256 tokens)\",\n",
        "    \"stopping_sequences\" : None\n",
        "}\n",
        "refined_prompt = f\"\"\"\n",
        "Classify these reviewa as positive, negative, or mixed, and tag relevant focus area such as battery life, screen quality, or performance\n",
        "  {reviews_text}\"\"\"\n",
        "Response = output1.invoke(refined_prompt, parameters=parameter2)\n",
        "print(\"Granite Model Response:\\n\")\n",
        "print(Response)"
      ],
      "metadata": {
        "colab": {
          "base_uri": "https://localhost:8080/"
        },
        "id": "jK5E5wTAfey0",
        "outputId": "4c69d16d-b7fb-47e7-a6fc-c9f13b711df0"
      },
      "execution_count": null,
      "outputs": [
        {
          "output_type": "stream",
          "name": "stdout",
          "text": [
            "Granite Model Response:\n",
            "\n",
            "1. Review 1: Positive, Focus Area - Battery Life, Performance\n",
            "2. Review 2: Mixed, Focus Area - Screen Quality (Dim outdoors, good colors indoors)\n",
            "3. Review 3: Negative, Focus Area - Performance (Slow, frequent crashes)\n"
          ]
        }
      ]
    },
    {
      "cell_type": "code",
      "source": [
        "parameter3 ={\n",
        "    \"top_k\" : 1,\n",
        "    \"top_p\" : 0.5,\n",
        "    \"max_tokens\" : 3,\n",
        "    \"min_tokens\" : 1,\n",
        "    \"random_seed\" : None,\n",
        "    \"repetition_penalty\" : 1.5,\n",
        "    \"stopping_criteria\" : \"lenght\",\n",
        "    \"stopping_sequences\" : \"\"\n",
        "}\n",
        "refined_prompt = f\"\"\"\n",
        "Classify these reviewa as positive, negative, or mixed, and tag relevant focus area such as battery life, screen quality, or performance\n",
        "  {reviews_text}\"\"\"\n",
        "Response = output1.invoke(refined_prompt, parameters=parameter3)\n",
        "print(\"Granite Model Response:\\n\")\n",
        "print(Response)"
      ],
      "metadata": {
        "colab": {
          "base_uri": "https://localhost:8080/"
        },
        "id": "uxGRNYLUjo9u",
        "outputId": "6f325c2c-d6dd-47d0-a58f-694fe12d7098"
      },
      "execution_count": null,
      "outputs": [
        {
          "output_type": "stream",
          "name": "stdout",
          "text": [
            "Granite Model Response:\n",
            "\n",
            "1. Review 1: Positive, Focus Areas - Battery Life, Performance\n",
            "2. Review 2: Mixed, Focus Area - Screen Quality (Dim outdoors, good colors indoors)\n",
            "3. Review 3: Negative, Focus Area - Performance (Slow, frequent crashes)\n"
          ]
        }
      ]
    },
    {
      "cell_type": "code",
      "source": [],
      "metadata": {
        "id": "0Kj9Sb5-k-ir"
      },
      "execution_count": null,
      "outputs": []
    }
  ]
}